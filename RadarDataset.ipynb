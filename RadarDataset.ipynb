{
  "nbformat": 4,
  "nbformat_minor": 0,
  "metadata": {
    "colab": {
      "provenance": [],
      "authorship_tag": "ABX9TyMA5bWnFtbx0MqJ5XwJRo69",
      "include_colab_link": true
    },
    "kernelspec": {
      "name": "python3",
      "display_name": "Python 3"
    },
    "language_info": {
      "name": "python"
    }
  },
  "cells": [
    {
      "cell_type": "markdown",
      "metadata": {
        "id": "view-in-github",
        "colab_type": "text"
      },
      "source": [
        "<a href=\"https://colab.research.google.com/github/liavaldetaro/RadarDataset/blob/main/RadarDataset.ipynb\" target=\"_parent\"><img src=\"https://colab.research.google.com/assets/colab-badge.svg\" alt=\"Open In Colab\"/></a>"
      ]
    },
    {
      "cell_type": "markdown",
      "source": [
        "#**Radar dataset**\n",
        "\n",
        "In this notebook, we will explore a radar dataset from Kaggle: https://www.kaggle.com/datasets/iroldan/real-doppler-raddar-database\n",
        "\n",
        "\n",
        "> The radar used to capture the data is a ubiquitous or persistent radar system developed by the Microwave and Radar Group from the UPM called RAD-DAR (Digital Array Receiver). The radar uses a frequency-modulated continuous wave (FMCW) on a frequency band centered at 8.75 GHz with a maximum bandwidth of 500 MHz.\n",
        "\n",
        "The data contains **labelled** video radar data from cars, people and drones. Let's try to see if we can classify it!\n",
        "\n"
      ],
      "metadata": {
        "id": "2ervrwGI2-re"
      }
    },
    {
      "cell_type": "code",
      "execution_count": 10,
      "metadata": {
        "id": "HnFdD5Or2hHS"
      },
      "outputs": [],
      "source": [
        "import os\n",
        "import sys\n",
        "import numpy as np\n",
        "import matplotlib.pyplot as plt\n",
        "import pandas as pd\n",
        "from collections.abc import Iterator\n",
        "import tensorflow as tf\n",
        "from tensorflow.keras.optimizers import Adam\n",
        "from tensorflow.keras.metrics import Precision, Recall, Accuracy\n",
        "from keras.callbacks import EarlyStopping\n",
        "import kagglehub\n",
        "from sklearn.model_selection import train_test_split"
      ]
    },
    {
      "cell_type": "code",
      "source": [
        "\n",
        "# Let's start by downloading the dataset into our notebook:\n",
        "path = kagglehub.dataset_download(\"iroldan/real-doppler-raddar-database\")\n",
        "\n",
        "# Let's print the path to where the data is saved to:\n",
        "print(\"Path to dataset files:\", path)"
      ],
      "metadata": {
        "colab": {
          "base_uri": "https://localhost:8080/"
        },
        "id": "TpbNfl1J6B9-",
        "outputId": "ac3b4d40-4e68-4254-c510-7382e65f9ca8"
      },
      "execution_count": 3,
      "outputs": [
        {
          "output_type": "stream",
          "name": "stdout",
          "text": [
            "Downloading from https://www.kaggle.com/api/v1/datasets/download/iroldan/real-doppler-raddar-database?dataset_version_number=2...\n"
          ]
        },
        {
          "output_type": "stream",
          "name": "stderr",
          "text": [
            "100%|██████████| 63.6M/63.6M [00:00<00:00, 304MB/s]"
          ]
        },
        {
          "output_type": "stream",
          "name": "stdout",
          "text": [
            "Extracting files...\n"
          ]
        },
        {
          "output_type": "stream",
          "name": "stderr",
          "text": [
            "\n"
          ]
        },
        {
          "output_type": "stream",
          "name": "stdout",
          "text": [
            "Path to dataset files: /root/.cache/kagglehub/datasets/iroldan/real-doppler-raddar-database/versions/2\n"
          ]
        }
      ]
    },
    {
      "cell_type": "markdown",
      "source": [
        "## **Data analysis**\n",
        "\n",
        "Perfect! Our data is loaded into the .cache folder. Let's start by taking a look at what the data looks like."
      ],
      "metadata": {
        "id": "mjrCxwRbfw75"
      }
    },
    {
      "cell_type": "code",
      "source": [
        "# Let's see what is in our dataset\n",
        "\n",
        "print(os.listdir(path))   # listing the subdirectories\n",
        "print(os.listdir(path + '/data/Cars/15-42'))"
      ],
      "metadata": {
        "colab": {
          "base_uri": "https://localhost:8080/"
        },
        "id": "_ejYBSHGKz6u",
        "outputId": "94044a1c-7c78-4600-940a-38e2d177262c"
      },
      "execution_count": 4,
      "outputs": [
        {
          "output_type": "stream",
          "name": "stdout",
          "text": [
            "['People', 'Drones', 'data', 'Cars']\n",
            "['129.csv', '018.csv', '075.csv', '149.csv', '071.csv', '059.csv', '143.csv', '057.csv', '072.csv', '160.csv', '126.csv', '166.csv', '140.csv', '135.csv', '043.csv', '087.csv', '083.csv', '147.csv', '084.csv', '051.csv', '078.csv', '120.csv', '005.csv', '148.csv', '076.csv', '142.csv', '169.csv', '024.csv', '127.csv', '042.csv', '052.csv', '105.csv', '013.csv', '023.csv', '146.csv', '009.csv', '121.csv', '044.csv', '102.csv', '053.csv', '064.csv', '004.csv', '008.csv', '108.csv', '010.csv', '093.csv', '115.csv', '098.csv', '007.csv', '154.csv', '019.csv', '079.csv', '177.csv', '116.csv', '137.csv', '172.csv', '131.csv', '086.csv', '029.csv', '028.csv', '039.csv', '178.csv', '132.csv', '048.csv', '027.csv', '011.csv', '107.csv', '085.csv', '034.csv', '099.csv', '001.csv', '150.csv', '096.csv', '031.csv', '180.csv', '073.csv', '176.csv', '003.csv', '033.csv', '156.csv', '109.csv', '035.csv', '155.csv', '026.csv', '037.csv', '058.csv', '106.csv', '113.csv', '167.csv', '077.csv', '184.csv', '101.csv', '012.csv', '088.csv', '006.csv', '032.csv', '055.csv', '125.csv', '151.csv', '124.csv', '047.csv', '117.csv', '089.csv', '141.csv', '017.csv', '128.csv', '164.csv', '100.csv', '054.csv', '070.csv', '022.csv', '119.csv', '063.csv', '161.csv', '165.csv', '091.csv', '153.csv', '163.csv', '038.csv', '186.csv', '175.csv', '104.csv', '114.csv', '067.csv', '080.csv', '016.csv', '069.csv', '159.csv', '168.csv', '068.csv', '110.csv', '021.csv', '183.csv', '162.csv', '081.csv', '066.csv', '090.csv', '060.csv', '065.csv', '174.csv', '118.csv', '014.csv', '061.csv', '185.csv', '181.csv', '145.csv', '030.csv', '134.csv', '144.csv', '045.csv', '157.csv', '170.csv', '095.csv', '173.csv', '179.csv', '111.csv', '171.csv', '046.csv', '122.csv', '041.csv', '002.csv', '050.csv', '015.csv', '092.csv', '112.csv', '040.csv', '158.csv', '036.csv', '133.csv', '103.csv', '049.csv', '136.csv', '025.csv', '056.csv', '074.csv', '123.csv', '182.csv', '097.csv', '062.csv', '138.csv', '130.csv', '082.csv', '020.csv', '152.csv', '139.csv', '094.csv']\n"
          ]
        }
      ]
    },
    {
      "cell_type": "code",
      "source": [
        "# Let's open an image from each dataset\n",
        "\n",
        "drone_image = pd.read_csv(\n",
        "    path + \"/Drones/15-42/159.csv\"\n",
        ")\n",
        "\n",
        "car_image = pd.read_csv(\n",
        "    path + \"/Cars/15-42/159.csv\"\n",
        ")\n",
        "\n",
        "people_image = pd.read_csv(\n",
        "    path + \"/People/16-06/014.csv\"\n",
        ")\n",
        "\n",
        "\n",
        "# We can now plot the images\n",
        "fig, ax = plt.subplots(3, 1)\n",
        "plt1 = ax[0].imshow(drone_image, cmap='plasma', vmax=-75)\n",
        "plt2 = ax[1].imshow(car_image, cmap='plasma', vmax=-75)\n",
        "plt3 = ax[2].imshow(people_image, cmap='plasma', vmax=-75)\n",
        "ax[0].set_title(\"Drone\")\n",
        "ax[1].set_title(\"Car\")\n",
        "ax[2].set_title(\"People\")\n",
        "plt.colorbar(plt1, ax=ax[0], fraction=0.01, pad=0.04)\n",
        "plt.colorbar(plt2, ax=ax[1], fraction=0.01, pad=0.04)\n",
        "plt.colorbar(plt3, ax=ax[2], fraction=0.01, pad=0.04)\n",
        "plt.show()\n"
      ],
      "metadata": {
        "id": "PDZqwg5XgAJb",
        "colab": {
          "base_uri": "https://localhost:8080/",
          "height": 421
        },
        "outputId": "10996715-6e53-4253-95c4-2b40a23ec0ca"
      },
      "execution_count": 5,
      "outputs": [
        {
          "output_type": "display_data",
          "data": {
            "text/plain": [
              "<Figure size 640x480 with 6 Axes>"
            ],
            "image/png": "[encoded data removed]"
          },
          "metadata": {}
        }
      ]
    },
    {
      "cell_type": "markdown",
      "source": [
        "The images don't really look that different to the human eye - let's hope our model can do a better job at classifying them :)"
      ],
      "metadata": {
        "id": "DjBtouShOsDY"
      }
    },
    {
      "cell_type": "markdown",
      "source": [
        "### **Data import and processing**\n",
        "\n",
        "Now that we are a bit more familiar with the data, we can start **preparing it** to feed into our AI model.\n",
        "There are a couple of steps to this preparation:\n",
        "\n",
        "1.  Load in the images and corresponding labels (if it is a car, a drone or a person)\n",
        "2.  Normalize our data - meaning that we change the values so that all of the pixels are between 0 and 1 - this makes it easier for our AI model.\n",
        "3. Split our data into a training set (which we give to the model) and a test set (which the model doesn't get to see - we use this set to test how good our model is).\n",
        "\n",
        "\n",
        "To keep our code organized, let's put these functionalities into **python functions**. *Don't worry too much about this part of the code* - the fun AI *training* comes later :)\n",
        "\n"
      ],
      "metadata": {
        "id": "xhwot8cBWnka"
      }
    },
    {
      "cell_type": "code",
      "source": [
        "\n",
        "def load_all_frames(folder_path: str) -> list:\n",
        "  \"\"\"Load all CSVs from a folder in order.\"\"\"\n",
        "  frames = []\n",
        "  files = sorted(\n",
        "      [f for f in os.listdir(folder_path) if f.endswith(\".csv\")],\n",
        "      key=lambda x: int(x.split('_')[-1].split('.')[0])\n",
        "  )\n",
        "  for file in files:\n",
        "      file_path = os.path.join(folder_path, file)\n",
        "      df = pd.read_csv(file_path, header=None).values\n",
        "      frames.append(df)\n",
        "\n",
        "  return frames\n",
        "\n",
        "\n",
        "def prepare_split_data(\n",
        "    dataset_path:str,\n",
        "    categories: dict,\n",
        "    test_size: float,\n",
        "    random_seed: int,\n",
        "    stack_size: int\n",
        "    ) -> tuple[tf.data.Dataset, tf.data.Dataset, tf.data.Dataset, tf.data.Dataset]:\n",
        "    \"\"\"Crawls through our data folder, normalizes all images and returns our\n",
        "    split dataset.\"\"\"\n",
        "\n",
        "    X = []  # radar data\n",
        "    y = []  # data labels (Cars/Drones/People)\n",
        "\n",
        "    # Let's crawl through the categories (Cars, Drones and People) and go through\n",
        "    # their respective folders\n",
        "    for category, label in categories_labels.items():\n",
        "      # path to a given category (Cars/Drones/People)\n",
        "      category_path = os.path.join(dataset_path, category)\n",
        "      for root, _, _ in os.walk(category_path):\n",
        "        # loading all video frames for each specific sample\n",
        "        all_frames = load_all_frames(folder_path=root)\n",
        "\n",
        "        for i in range(len(all_frames) - stack_size + 1):\n",
        "          stacked_data = np.stack(all_frames[i:i+stack_size], axis=-1)\n",
        "          X.append(stacked_data) # (11, 61, stack_size)\n",
        "          y.append(label)        # data labels\n",
        "\n",
        "      print(f\"Finished loading {category}\")\n",
        "\n",
        "    # Now we normalize our data\n",
        "    X = np.array(X)\n",
        "    print(f\"Dataset shape: {X.shape}\")\n",
        "\n",
        "    mean = np.mean(X, axis=(0, 1, 2))\n",
        "    std = np.std(X, axis=(0, 1, 2))\n",
        "\n",
        "    X = (X - mean) / std\n",
        "\n",
        "    # Let's also change our labels in a numpy array\n",
        "    y = np.array(y)\n",
        "\n",
        "    # Train/test split\n",
        "    X_train, X_test, y_train, y_test = train_test_split(\n",
        "        X, y, test_size=test_size, random_state=random_seed\n",
        "    )\n",
        "\n",
        "    return X_train, X_test, y_train, y_test\n"
      ],
      "metadata": {
        "id": "eiCNqb9tYCX1"
      },
      "execution_count": 6,
      "outputs": []
    },
    {
      "cell_type": "markdown",
      "source": [
        "Now that we made our data import function, we can finally start the fun part!\n",
        "\n",
        "First, we import our data:"
      ],
      "metadata": {
        "id": "s1Dcl-MEK92Z"
      }
    },
    {
      "cell_type": "code",
      "source": [
        "# We know from the data that our data can either a car, a drone or a person\n",
        "categories_labels = {\"Cars\": 0, \"Drones\": 1, \"People\": 2}\n",
        "\n",
        "\n",
        "X_train, X_test, y_train, y_test = prepare_split_data(\n",
        "    dataset_path=path,\n",
        "    categories=categories_labels,\n",
        "    test_size=0.2,\n",
        "    random_seed=2387,\n",
        "    stack_size=3\n",
        "    )"
      ],
      "metadata": {
        "colab": {
          "base_uri": "https://localhost:8080/"
        },
        "id": "GYSss1pXLGNC",
        "outputId": "3ede07ef-cf12-4743-c85b-4773b42a3eea"
      },
      "execution_count": 7,
      "outputs": [
        {
          "output_type": "stream",
          "name": "stdout",
          "text": [
            "Finished loading Cars\n",
            "Finished loading Drones\n",
            "Finished loading People\n",
            "Dataset shape: (17325, 11, 61, 3)\n"
          ]
        }
      ]
    },
    {
      "cell_type": "markdown",
      "source": [
        "# **Defining the model**\n",
        "\n",
        "Now that our data is imported, we can design a model to train it with.\n",
        "\n",
        "We will use a Convolutional Neural Network (https://en.wikipedia.org/wiki/Convolutional_neural_network), since it usually works well for image data.\n",
        "\n",
        "You should try to alter the architecture if you want! For example, you can try to change:\n",
        "\n",
        "*   The **number and size of the layers**\n",
        "*   The **activation type** of the layers\n",
        "*   The **batch size**\n",
        "*   The number of **epochs**\n",
        "\n",
        "\n",
        "How do the changes affect the ***model performance***?\n",
        "\n"
      ],
      "metadata": {
        "id": "uHu3TrfhcdPQ"
      }
    },
    {
      "cell_type": "code",
      "source": [
        "from tensorflow.keras.layers import Input\n",
        "\n",
        "def define_cnn_model(input_shape: np.array):\n",
        "  model = tf.keras.Sequential(\n",
        "      [\n",
        "          tf.keras.layers.Input(shape=input_shape),\n",
        "          # Convolutional 2D layer with Relu activation\n",
        "          tf.keras.layers.Conv2D(32, (3, 3), activation=\"relu\"),\n",
        "          # We now need to flatten our input to pass it into the dense layers\n",
        "          tf.keras.layers.Flatten(),\n",
        "          tf.keras.layers.Dense(128, activation=\"relu\"),\n",
        "          tf.keras.layers.Dense(64, activation=\"relu\"),\n",
        "          tf.keras.layers.Dense(32, activation=\"relu\"),\n",
        "          tf.keras.layers.Dense(16, activation=\"relu\"),\n",
        "          tf.keras.layers.Dense(3, activation=\"softmax\"),\n",
        "      ]\n",
        "  )\n",
        "\n",
        "  return model"
      ],
      "metadata": {
        "id": "ODheJC89cRXM"
      },
      "execution_count": 15,
      "outputs": []
    },
    {
      "cell_type": "markdown",
      "source": [
        "We can now pass our data into the model"
      ],
      "metadata": {
        "id": "Y-qLlMM2q6Gr"
      }
    },
    {
      "cell_type": "code",
      "source": [
        "input_shape = X_train.shape[1:]\n",
        "\n",
        "model = define_cnn_model(input_shape=input_shape)\n",
        "\n",
        "# Print a model summary\n",
        "model.summary()"
      ],
      "metadata": {
        "id": "4m-9Ocoaou7q"
      },
      "execution_count": null,
      "outputs": []
    },
    {
      "cell_type": "code",
      "source": [
        "model.compile(optimizer=Adam(),\n",
        "              loss=\"sparse_categorical_crossentropy\",\n",
        "              metrics=[\"accuracy\"]\n",
        "              )\n",
        "\n",
        "history = model.fit(\n",
        "    X_train,\n",
        "    y_train,\n",
        "    epochs=25,\n",
        "    batch_size=64,\n",
        "    validation_data=(X_test, y_test),\n",
        "    verbose=1)"
      ],
      "metadata": {
        "id": "7eN6gOfEszv5"
      },
      "execution_count": null,
      "outputs": []
    },
    {
      "cell_type": "markdown",
      "source": [
        "Nice! Let's plot the accuracy and loss of our trained model"
      ],
      "metadata": {
        "id": "j-3XEDMzvyuL"
      }
    },
    {
      "cell_type": "code",
      "source": [
        "plt.plot(history.history['accuracy'])\n",
        "plt.plot(history.history['val_accuracy'])\n",
        "plt.title('model accuracy')\n",
        "plt.ylabel('accuracy')\n",
        "plt.xlabel('epoch')\n",
        "plt.legend(['train', 'val'], loc='upper left')\n",
        "plt.show()"
      ],
      "metadata": {
        "id": "8gvPCa-tvS_Z"
      },
      "execution_count": null,
      "outputs": []
    },
    {
      "cell_type": "code",
      "source": [
        "plt.plot(history.history['loss'])\n",
        "plt.plot(history.history['val_loss'])\n",
        "plt.title('model loss')\n",
        "plt.ylabel('loss')\n",
        "plt.xlabel('epoch')\n",
        "plt.legend(['train', 'val'], loc='upper left')\n",
        "plt.show()"
      ],
      "metadata": {
        "id": "U2KYYWAEvWiE"
      },
      "execution_count": null,
      "outputs": []
    }
  ]
}