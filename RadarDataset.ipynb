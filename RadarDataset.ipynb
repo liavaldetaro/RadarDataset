{
  "nbformat": 4,
  "nbformat_minor": 0,
  "metadata": {
    "colab": {
      "provenance": [],
      "authorship_tag": "ABX9TyNDb9GlI5ET30Q1eUC3t8Ex",
      "include_colab_link": true
    },
    "kernelspec": {
      "name": "python3",
      "display_name": "Python 3"
    },
    "language_info": {
      "name": "python"
    }
  },
  "cells": [
    {
      "cell_type": "markdown",
      "metadata": {
        "id": "view-in-github",
        "colab_type": "text"
      },
      "source": [
        "<a href=\"https://colab.research.google.com/github/liavaldetaro/RadarDataset/blob/main/RadarDataset.ipynb\" target=\"_parent\"><img src=\"https://colab.research.google.com/assets/colab-badge.svg\" alt=\"Open In Colab\"/></a>"
      ]
    },
    {
      "cell_type": "markdown",
      "source": [
        "#**Radar dataset**\n",
        "\n",
        "In this notebook, we will explore a radar dataset from Kaggle: https://www.kaggle.com/datasets/iroldan/real-doppler-raddar-database\n",
        "\n",
        "\n",
        "> The radar used to capture the data is a ubiquitous or persistent radar system developed by the Microwave and Radar Group from the UPM called RAD-DAR (Digital Array Receiver). The radar uses a frequency-modulated continuous wave (FMCW) on a frequency band centered at 8.75 GHz with a maximum bandwidth of 500 MHz.\n",
        "\n",
        "The data contains **labelled** radar data from cars, birds and drones. Let's try to see if we can classify it!\n",
        "\n"
      ],
      "metadata": {
        "id": "2ervrwGI2-re"
      }
    },
    {
      "cell_type": "code",
      "execution_count": 4,
      "metadata": {
        "id": "HnFdD5Or2hHS"
      },
      "outputs": [],
      "source": [
        "import os\n",
        "import sys\n",
        "import numpy as np\n",
        "import matplotlib.pyplot as plt\n",
        "import pandas as pd\n",
        "from collections.abc import Iterator\n",
        "import tensorflow as tf\n",
        "from keras.callbacks import EarlyStopping\n",
        "import kagglehub"
      ]
    },
    {
      "cell_type": "code",
      "source": [
        "\n",
        "# Let's start by downloading the dataset into our notebook:\n",
        "path = kagglehub.dataset_download(\"iroldan/real-doppler-raddar-database\")\n",
        "\n",
        "# Let's print the path to where the data is saved to:\n",
        "print(\"Path to dataset files:\", path)"
      ],
      "metadata": {
        "colab": {
          "base_uri": "https://localhost:8080/"
        },
        "id": "TpbNfl1J6B9-",
        "outputId": "ca5d6d12-8735-49c0-9a11-00b4a0ca59cb"
      },
      "execution_count": 2,
      "outputs": [
        {
          "output_type": "stream",
          "name": "stdout",
          "text": [
            "Downloading from https://www.kaggle.com/api/v1/datasets/download/iroldan/real-doppler-raddar-database?dataset_version_number=2...\n"
          ]
        },
        {
          "output_type": "stream",
          "name": "stderr",
          "text": [
            "100%|██████████| 63.6M/63.6M [00:00<00:00, 209MB/s]"
          ]
        },
        {
          "output_type": "stream",
          "name": "stdout",
          "text": [
            "Extracting files...\n"
          ]
        },
        {
          "output_type": "stream",
          "name": "stderr",
          "text": [
            "\n"
          ]
        },
        {
          "output_type": "stream",
          "name": "stdout",
          "text": [
            "Path to dataset files: /root/.cache/kagglehub/datasets/iroldan/real-doppler-raddar-database/versions/2\n"
          ]
        }
      ]
    },
    {
      "cell_type": "markdown",
      "source": [
        "## **Data analysis**\n",
        "\n",
        "Perfect! Our data is loaded into the .cache folder. Let's start by taking a look at what the data looks like."
      ],
      "metadata": {
        "id": "mjrCxwRbfw75"
      }
    },
    {
      "cell_type": "code",
      "source": [
        "car_image = pd.read_csv(\n",
        "\n",
        ")"
      ],
      "metadata": {
        "id": "PDZqwg5XgAJb"
      },
      "execution_count": null,
      "outputs": []
    },
    {
      "cell_type": "markdown",
      "source": [
        "Now that we are a bit more familiar with the data, we can start **preparing it** to feed into our AI model.\n",
        "There are a couple of steps to this preparation:\n",
        "\n",
        "1.  Load in the images and corresponding labels (if it is a car, a drone or a bird)\n",
        "2.  Normalize our data\n",
        "3. Split our data into a training set (which we give to the model) and a test set (which the model doesn't get to see)\n",
        "\n",
        "\n",
        "To keep our code organized, let's put these functionalities into **python functions**.\n",
        "\n"
      ],
      "metadata": {
        "id": "xhwot8cBWnka"
      }
    },
    {
      "cell_type": "code",
      "source": [
        "def load_categories(dataset_path: str) -> pd.dataframe:\n",
        "  \"\"\"Loads all CSV files from the folder \"\"\"\n",
        "\n",
        "def data_preparation(\n",
        "    dataset_path:str, categories: dict, test_size: float, random_seed: int\n",
        "    ) -> tuple[tf.data.Dataset, tf.data.Dataset, tf.data.Dataset, tf.data.Dataset]:\n",
        "    ...\n",
        "\n"
      ],
      "metadata": {
        "id": "eiCNqb9tYCX1"
      },
      "execution_count": null,
      "outputs": []
    },
    {
      "cell_type": "code",
      "source": [
        "print(os.listdir(path + '/Drones/15-21'))"
      ],
      "metadata": {
        "id": "eeFjIfxdes68",
        "outputId": "39ba6ceb-934c-427c-8816-7e0e82ea3a46",
        "colab": {
          "base_uri": "https://localhost:8080/"
        }
      },
      "execution_count": 8,
      "outputs": [
        {
          "output_type": "stream",
          "name": "stdout",
          "text": [
            "['160.csv', '102.csv', '171.csv', '038.csv', '172.csv', '159.csv', '067.csv', '054.csv', '125.csv', '070.csv', '071.csv', '116.csv', '090.csv', '103.csv', '124.csv', '036.csv', '029.csv', '110.csv', '101.csv', '020.csv', '105.csv', '133.csv', '114.csv', '176.csv', '156.csv', '161.csv', '056.csv', '148.csv', '081.csv', '085.csv', '079.csv', '035.csv', '059.csv', '168.csv', '179.csv', '100.csv', '053.csv', '129.csv', '078.csv', '180.csv', '028.csv', '096.csv', '141.csv', '147.csv', '152.csv', '048.csv', '025.csv', '037.csv', '142.csv', '140.csv', '057.csv', '151.csv', '006.csv', '122.csv', '150.csv', '162.csv', '115.csv', '012.csv', '138.csv', '097.csv', '016.csv', '135.csv', '072.csv', '088.csv', '164.csv', '086.csv', '045.csv', '113.csv', '021.csv', '145.csv', '137.csv', '178.csv', '093.csv', '046.csv', '106.csv', '062.csv', '134.csv', '002.csv', '060.csv', '128.csv', '052.csv', '158.csv', '181.csv', '117.csv', '004.csv', '074.csv', '087.csv', '157.csv', '009.csv', '109.csv', '143.csv', '061.csv', '047.csv', '015.csv', '069.csv', '026.csv', '022.csv', '094.csv', '099.csv', '033.csv', '030.csv', '139.csv', '014.csv', '136.csv', '066.csv', '073.csv', '049.csv', '008.csv', '024.csv', '044.csv', '039.csv', '108.csv', '043.csv', '112.csv', '034.csv', '165.csv', '080.csv', '121.csv', '107.csv', '001.csv', '111.csv', '083.csv', '173.csv', '098.csv', '019.csv', '118.csv', '055.csv', '163.csv', '120.csv', '064.csv', '042.csv', '084.csv', '023.csv', '063.csv', '068.csv', '027.csv', '153.csv', '075.csv', '130.csv', '123.csv', '018.csv', '146.csv', '149.csv', '089.csv', '040.csv', '058.csv', '041.csv', '082.csv', '050.csv', '013.csv', '092.csv', '095.csv', '076.csv', '091.csv', '131.csv', '005.csv', '077.csv', '177.csv', '065.csv', '011.csv', '155.csv', '144.csv', '175.csv', '119.csv', '104.csv', '154.csv', '132.csv', '170.csv', '166.csv', '017.csv', '126.csv', '010.csv', '169.csv', '003.csv', '167.csv', '174.csv', '127.csv', '031.csv', '032.csv', '051.csv', '007.csv']\n"
          ]
        }
      ]
    }
  ]
}